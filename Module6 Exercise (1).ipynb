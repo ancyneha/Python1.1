{
 "cells": [
  {
   "cell_type": "markdown",
   "metadata": {},
   "source": [
    "### Exercise 1\n",
    "Convert following decimal number to a binary number by hand:\n",
    "\n",
    "    61\n",
    "    15\n",
    "    71\n",
    "    "
   ]
  },
  {
   "cell_type": "code",
   "execution_count": 2,
   "metadata": {},
   "outputs": [],
   "source": [
    "a = 61\n",
    "bin(61) = 111101\n",
    "b = 15\n",
    "bin(15) = 1111\n",
    "c = 71\n",
    "bin(71) = 1000111"
   ]
  },
  {
   "cell_type": "markdown",
   "metadata": {},
   "source": [
    "Exercise 2\n",
    "When a = 61 and b = 15, what is the result of following bitwise opertion? Use inline comments to show your result in a binary number. Find your answer by hand.\n",
    "\n",
    "    a & b\n",
    "    a | b\n",
    "    a ^ b\n",
    "    a >> 2\n",
    "    "
   ]
  },
  {
   "cell_type": "code",
   "execution_count": null,
   "metadata": {},
   "outputs": [],
   "source": [
    "a = 61    # 00111101\n",
    "b = 15    # 00001111\n",
    "\n",
    "a & b     # 00001101\n",
    "\n",
    "a | b     # 00111111\n",
    "\n",
    "a ^ b     # 00110010\n",
    "\n",
    "a >> 2    # 00001111"
   ]
  },
  {
   "cell_type": "code",
   "execution_count": 4,
   "metadata": {},
   "outputs": [
    {
     "data": {
      "text/plain": [
       "'0b111101'"
      ]
     },
     "execution_count": 4,
     "metadata": {},
     "output_type": "execute_result"
    }
   ],
   "source": [
    "# convert a in to a binary number\n",
    "bin(61)"
   ]
  },
  {
   "cell_type": "code",
   "execution_count": 7,
   "metadata": {},
   "outputs": [
    {
     "data": {
      "text/plain": [
       "'0b1111'"
      ]
     },
     "execution_count": 7,
     "metadata": {},
     "output_type": "execute_result"
    }
   ],
   "source": [
    "# convert b in to a binary number\n",
    "bin(15)\n"
   ]
  },
  {
   "cell_type": "code",
   "execution_count": null,
   "metadata": {},
   "outputs": [],
   "source": [
    "# a & b\n",
    "\n",
    "a = 61    # 00111101\n",
    "b = 15    # 00001111\n",
    "\n",
    "a & b     # 00001101"
   ]
  },
  {
   "cell_type": "code",
   "execution_count": null,
   "metadata": {},
   "outputs": [],
   "source": [
    "# a | b\n",
    "a = 61    # 00111101\n",
    "b = 15    # 00001111\n",
    "\n",
    "a | b     # 00111111"
   ]
  },
  {
   "cell_type": "code",
   "execution_count": null,
   "metadata": {},
   "outputs": [],
   "source": [
    "# a ^ b\n",
    "a = 61    # 00111101\n",
    "b = 15    # 00001111\n",
    "\n",
    "a ^ b     # 00110010"
   ]
  },
  {
   "cell_type": "code",
   "execution_count": null,
   "metadata": {},
   "outputs": [],
   "source": [
    "# a >> 2\n",
    "a = 61    # 00111101\n",
    "b = 15    # 00001111\n",
    "\n",
    "a >> 2    # 00001111"
   ]
  },
  {
   "cell_type": "markdown",
   "metadata": {},
   "source": [
    "Exercise 3\n",
    "\n",
    "Ask a user for a code and store that answer. \n",
    "If the answer is <b>grey</b> then print \"You found secret code.\"\n",
    "Otherwise print that the entered code is not the secret code."
   ]
  },
  {
   "cell_type": "code",
   "execution_count": null,
   "metadata": {},
   "outputs": [],
   "source": [
    "code = int(input(\"Enter your code: \"))\n",
    "check_code(code)\n",
    "\n",
    "def check_code(code) :\n",
    "\n",
    "    if the answer is <b>grey</b> :\n",
    "        print(\"you found secret code\")\n",
    "    else :\n",
    "        print(\"the entered code is not the secret code\")"
   ]
  },
  {
   "cell_type": "markdown",
   "metadata": {},
   "source": [
    "### Exercise 4\n",
    "Ask for an exam score and store that number. If the number is greater than 100, then print out 'You cannot have an exam score higher than 100'. If the number doesn't exceeed 100 but is greater than or equal to 75, then print out 'You did great on your exam!'. Otherwise if they scored lower than 75, then print out 'You need to study harder'."
   ]
  },
  {
   "cell_type": "code",
   "execution_count": 44,
   "metadata": {},
   "outputs": [],
   "source": [
    "def check_score(arg) :\n",
    "    if arg >= 100 :\n",
    "        print(\"You cannot have an exam score higher than 100\")\n",
    "    elif arg >=75 :\n",
    "        print(\"did great on your exam\")\n",
    "    else :\n",
    "        print(\"you need to study harder\")\n",
    "    "
   ]
  },
  {
   "cell_type": "code",
   "execution_count": 48,
   "metadata": {},
   "outputs": [
    {
     "name": "stdout",
     "output_type": "stream",
     "text": [
      "Enter a score: 105\n",
      "You cannot have an exam score higher than 100\n",
      "Yaa!\n"
     ]
    }
   ],
   "source": [
    "score = int(input(\"Enter a score: \"))\n",
    "check_score(score)\n",
    "print(\"Yaa!\")"
   ]
  },
  {
   "cell_type": "markdown",
   "metadata": {},
   "source": [
    "### Exercise 5\n",
    "Write a function to convert a test score to a grade where  \n",
    " - 90 - 100: A\n",
    " - 80 - 89:  B\n",
    " - 70 - 79:  C\n",
    " - 60 - 69:  D\n",
    " - < 60   :  F\n",
    " \n",
    "If a score is not between 0 and 100 then print out an error message. In the program, ask the user for a score and then call your function. "
   ]
  },
  {
   "cell_type": "code",
   "execution_count": 120,
   "metadata": {},
   "outputs": [],
   "source": [
    "# define your function\n",
    "def check_score(arg) :\n",
    "    if arg >= 90 :\n",
    "        print(\"grade A\")\n",
    "    elif arg >= 80 :\n",
    "        print(\"grade B\")\n",
    "    elif arg >= 70 :\n",
    "        print(\"grade C\")\n",
    "    elif arg >= 60:\n",
    "        print(\"grade D\")\n",
    "    else :\n",
    "        print(\"grade F\")"
   ]
  },
  {
   "cell_type": "code",
   "execution_count": 126,
   "metadata": {},
   "outputs": [
    {
     "name": "stdout",
     "output_type": "stream",
     "text": [
      "Enter a score: 54\n"
     ]
    }
   ],
   "source": [
    "# ask the user for a score and then call your function\n",
    "\n",
    "score = int(input(\"Enter a score: \"))\n",
    "def check_score(arg) :\n",
    "    if arg >= 90 :\n",
    "        print(\"grade A\")\n",
    "    else :\n",
    "        if arg >=80 :\n",
    "            print(\"grade B\")\n",
    "        else :\n",
    "            if arg >= 70 :\n",
    "                print(\"grade C\")\n",
    "            else :\n",
    "                if arg >= 60 :\n",
    "                    print(\"grade D\")\n",
    "                else :\n",
    "                    print(\"grade F\")\n",
    "                    print(\"work harder\")\n",
    "            "
   ]
  },
  {
   "cell_type": "code",
   "execution_count": 128,
   "metadata": {},
   "outputs": [
    {
     "name": "stdout",
     "output_type": "stream",
     "text": [
      "Enter a score: 76\n",
      "grade C\n"
     ]
    }
   ],
   "source": [
    "score = int(input(\"Enter a score: \"))\n",
    "check_score(score)"
   ]
  },
  {
   "cell_type": "code",
   "execution_count": null,
   "metadata": {},
   "outputs": [],
   "source": []
  }
 ],
 "metadata": {
  "kernelspec": {
   "display_name": "Python 3",
   "language": "python",
   "name": "python3"
  },
  "language_info": {
   "codemirror_mode": {
    "name": "ipython",
    "version": 3
   },
   "file_extension": ".py",
   "mimetype": "text/x-python",
   "name": "python",
   "nbconvert_exporter": "python",
   "pygments_lexer": "ipython3",
   "version": "3.8.8"
  }
 },
 "nbformat": 4,
 "nbformat_minor": 4
}
