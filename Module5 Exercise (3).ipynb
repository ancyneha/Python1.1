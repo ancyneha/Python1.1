{
 "cells": [
  {
   "cell_type": "markdown",
   "metadata": {},
   "source": [
    "1. Round 4.5667 to the nearest hundreth using a build-in function, round()."
   ]
  },
  {
   "cell_type": "code",
   "execution_count": 1,
   "metadata": {},
   "outputs": [
    {
     "data": {
      "text/plain": [
       "4.57"
      ]
     },
     "execution_count": 1,
     "metadata": {},
     "output_type": "execute_result"
    }
   ],
   "source": [
    "round(4.5667, 2)"
   ]
  },
  {
   "cell_type": "markdown",
   "metadata": {},
   "source": [
    "2. Convert \"657\" to an integer data type"
   ]
  },
  {
   "cell_type": "code",
   "execution_count": 2,
   "metadata": {},
   "outputs": [
    {
     "name": "stdout",
     "output_type": "stream",
     "text": [
      "657\n"
     ]
    }
   ],
   "source": [
    "x = \"657\"\n",
    "print(int(x))"
   ]
  },
  {
   "cell_type": "markdown",
   "metadata": {},
   "source": [
    "3.\n",
    "Write a program to get two numbers from a user. Then, create a secret code where a code consists of 6 numbers and each number is randomly generated number between two numbers from a user. "
   ]
  },
  {
   "cell_type": "code",
   "execution_count": 4,
   "metadata": {},
   "outputs": [
    {
     "name": "stdout",
     "output_type": "stream",
     "text": [
      "pick first number: 12\n",
      "pick second number: 20\n"
     ]
    }
   ],
   "source": [
    "import random as rand\n",
    "\n",
    "#get two numbers from a user - what data type is it?\n",
    "numb1 = int(input(\"pick first number: \"))\n",
    "numb2 = int(input(\"pick second number: \"))\n"
   ]
  },
  {
   "cell_type": "code",
   "execution_count": 11,
   "metadata": {},
   "outputs": [
    {
     "name": "stdout",
     "output_type": "stream",
     "text": [
      "17\n",
      "15\n",
      "17\n",
      "19\n",
      "18\n",
      "20\n"
     ]
    }
   ],
   "source": [
    "#generate 6 random numbers\n",
    "import random as rand\n",
    "\n",
    "no1 = rand.randint(12, 20)\n",
    "print(no1)\n",
    "no2 = rand.randint(12, 20)\n",
    "print(no2)\n",
    "no3 = rand.randint(12, 20)\n",
    "print(no3)\n",
    "no4 = rand.randint(12, 20)\n",
    "print(no4)\n",
    "no5 = rand.randint(12, 20)\n",
    "print(no5)\n",
    "no6 = rand.randint(12, 20)\n",
    "print(no6)"
   ]
  },
  {
   "cell_type": "markdown",
   "metadata": {},
   "source": [
    "4.\n",
    "Write a program to center align below text where number of characters per line is 40:\n",
    "\n",
    "    Hickory, dickory, dock,\n",
    "    The mouse ran up the clock.\n",
    "    The clock struck one,\n",
    "    The mouse ran down,\n",
    "    Hickory, dickory, dock\n",
    "\n",
    "<b>Do not use string's center method! </b>"
   ]
  },
  {
   "cell_type": "code",
   "execution_count": 17,
   "metadata": {},
   "outputs": [
    {
     "name": "stdout",
     "output_type": "stream",
     "text": [
      "        Hickory, dickory, dock,         \n",
      "      The mouse ran up the clock.       \n",
      "         The clock struck one,          \n",
      "          The mouse ran down,           \n",
      "         Hickory, dickory, dock         \n"
     ]
    }
   ],
   "source": [
    "line1 = \"Hickory, dickory, dock,\"\n",
    "print(line1.center(40))\n",
    "line2 = \"The mouse ran up the clock.\"\n",
    "print(line2.center(40))\n",
    "line3 = \"The clock struck one,\"\n",
    "print(line3.center(40))\n",
    "line4 = \"The mouse ran down,\"\n",
    "print(line4.center(40))\n",
    "line5 = \"Hickory, dickory, dock\"\n",
    "print(line5.center(40))\n",
    "\n"
   ]
  },
  {
   "cell_type": "markdown",
   "metadata": {},
   "source": [
    "5. Write a function to calculate the miles per gallon.\n",
    "Get a miles driven and gallons used from a user and call your function to calculate the miles per gallon. "
   ]
  },
  {
   "cell_type": "code",
   "execution_count": 24,
   "metadata": {},
   "outputs": [],
   "source": [
    "def compute(miles, gallon):\n",
    "    milespergallon = miles/gallon\n",
    "    "
   ]
  },
  {
   "cell_type": "code",
   "execution_count": 23,
   "metadata": {},
   "outputs": [
    {
     "name": "stdout",
     "output_type": "stream",
     "text": [
      "The Miles Per Gallon\n",
      "please enter miles: 80\n",
      "please enter no. of gallon: 7\n",
      "\n",
      "11.428571428571429\n"
     ]
    }
   ],
   "source": [
    "print(\"The Miles Per Gallon\")\n",
    "\n",
    "miles = int(input(\"please enter miles: \"))\n",
    "gallon = int(input(\"please enter no. of gallon: \"))\n",
    "\n",
    "print(\"\")\n",
    "print(miles/gallon)\n"
   ]
  }
 ],
 "metadata": {
  "kernelspec": {
   "display_name": "Python 3",
   "language": "python",
   "name": "python3"
  },
  "language_info": {
   "codemirror_mode": {
    "name": "ipython",
    "version": 3
   },
   "file_extension": ".py",
   "mimetype": "text/x-python",
   "name": "python",
   "nbconvert_exporter": "python",
   "pygments_lexer": "ipython3",
   "version": "3.8.8"
  }
 },
 "nbformat": 4,
 "nbformat_minor": 4
}
